{
 "cells": [
  {
   "cell_type": "markdown",
   "metadata": {},
   "source": [
    "## Notebook Intro"
   ]
  },
  {
   "cell_type": "markdown",
   "metadata": {},
   "source": [
    "This notebook contains the code for the first step in this project. The following data points from <a href='https://www.ibdb.com/'>IBDB (Internet Broadway Database)</a> were included:<br><br>\n",
    "\n",
    "<li><b>National Tour Routes</b> - List of cities and the length of stay for all <a href='https://www.ibdb.com/theatre/national-tour-100020'>national tours</a> listed.</li>\n",
    "<li><b>Tour Details</b> - Details about each tour, including the opening and closing date, the tour label, and whether it was an original or a revival"
   ]
  },
  {
   "cell_type": "markdown",
   "metadata": {
    "heading_collapsed": true
   },
   "source": [
    "### Master Import"
   ]
  },
  {
   "cell_type": "code",
   "execution_count": 1,
   "metadata": {
    "ExecuteTime": {
     "end_time": "2020-12-11T01:23:02.328325Z",
     "start_time": "2020-12-11T01:23:00.352375Z"
    },
    "hidden": true
   },
   "outputs": [],
   "source": [
    "import requests as requests\n",
    "import re\n",
    "from bs4 import BeautifulSoup\n",
    "import numpy as np\n",
    "import datetime\n",
    "import pandas as pd"
   ]
  },
  {
   "cell_type": "markdown",
   "metadata": {},
   "source": [
    "## Show Description Table"
   ]
  },
  {
   "cell_type": "markdown",
   "metadata": {},
   "source": [
    "In this section, features for one particular show (<a href='https://www.ibdb.com/tour-production/miss-saigon-first-national-509979#Tours'>Miss Saigon</a>) were scraped, to be iterated for all other tours."
   ]
  },
  {
   "cell_type": "code",
   "execution_count": 2,
   "metadata": {
    "ExecuteTime": {
     "end_time": "2020-12-11T01:23:09.611259Z",
     "start_time": "2020-12-11T01:23:07.880831Z"
    }
   },
   "outputs": [],
   "source": [
    "# Test Show - Miss Saigon\n",
    "\n",
    "saigon = requests.get('https://www.ibdb.com/tour-production/miss-saigon-first-national-509979#Tours')\n",
    "soup = BeautifulSoup(saigon.text, 'html5lib')"
   ]
  },
  {
   "cell_type": "code",
   "execution_count": 3,
   "metadata": {
    "ExecuteTime": {
     "end_time": "2020-12-11T01:23:09.640927Z",
     "start_time": "2020-12-11T01:23:09.621198Z"
    }
   },
   "outputs": [
    {
     "data": {
      "text/plain": [
       "'Miss Saigon'"
      ]
     },
     "execution_count": 3,
     "metadata": {},
     "output_type": "execute_result"
    }
   ],
   "source": [
    "# SHOW TITLE\n",
    "show_title = soup.find_all('h3')[0]\n",
    "show_title = str(show_title).split('>')[1].split('<')[0]\n",
    "show_title"
   ]
  },
  {
   "cell_type": "code",
   "execution_count": 4,
   "metadata": {
    "ExecuteTime": {
     "end_time": "2020-12-11T01:23:10.204485Z",
     "start_time": "2020-12-11T01:23:10.172451Z"
    }
   },
   "outputs": [
    {
     "data": {
      "text/plain": [
       "'Tour: First National'"
      ]
     },
     "execution_count": 4,
     "metadata": {},
     "output_type": "execute_result"
    }
   ],
   "source": [
    "# TOUR DESCRIPT\n",
    "tour_descript = soup.find_all('div', class_='tag-block-compact')[0]\n",
    "tour_descript = str(tour_descript).split('>')[2].split('<')[0]\n",
    "tour_descript"
   ]
  },
  {
   "cell_type": "code",
   "execution_count": 5,
   "metadata": {
    "ExecuteTime": {
     "end_time": "2020-12-11T01:23:10.765899Z",
     "start_time": "2020-12-11T01:23:10.728733Z"
    }
   },
   "outputs": [
    {
     "data": {
      "text/plain": [
       "'Musical'"
      ]
     },
     "execution_count": 5,
     "metadata": {},
     "output_type": "execute_result"
    }
   ],
   "source": [
    "# PLAY / MUSICAL\n",
    "show_type = soup.find_all('div', class_='tag-block-compact')[1]\n",
    "show_type = str(show_type).split('>')[2].split('<')[0]\n",
    "show_type"
   ]
  },
  {
   "cell_type": "code",
   "execution_count": 6,
   "metadata": {
    "ExecuteTime": {
     "end_time": "2020-12-11T01:23:11.237444Z",
     "start_time": "2020-12-11T01:23:11.204162Z"
    }
   },
   "outputs": [
    {
     "name": "stdout",
     "output_type": "stream",
     "text": [
      "1992-10-03\n"
     ]
    }
   ],
   "source": [
    "# TOUR OPENING DATE\n",
    "tour_opening = soup.find_all('div', class_='col s6 txt-paddings')\n",
    "tour_opening = str(tour_opening).split('>')[2].split('<')[0]\n",
    "tour_opening = datetime.datetime.strptime(tour_opening, '%b %d, %Y')\n",
    "print(tour_opening.date())"
   ]
  },
  {
   "cell_type": "code",
   "execution_count": 7,
   "metadata": {
    "ExecuteTime": {
     "end_time": "2020-12-11T01:23:11.733373Z",
     "start_time": "2020-12-11T01:23:11.700061Z"
    }
   },
   "outputs": [
    {
     "name": "stdout",
     "output_type": "stream",
     "text": [
      "1996-07-07\n"
     ]
    }
   ],
   "source": [
    "# TOUR CLOSING DATE\n",
    "tour_closing = soup.find_all('div', class_='col s6 txt-paddings vertical-divider')\n",
    "tour_closing = str(tour_closing).split('>')[2].split('<')[0]\n",
    "tour_closing = datetime.datetime.strptime(tour_closing, '%b %d, %Y')\n",
    "print(tour_closing.date())"
   ]
  },
  {
   "cell_type": "code",
   "execution_count": 8,
   "metadata": {
    "ExecuteTime": {
     "end_time": "2020-12-11T01:23:13.536452Z",
     "start_time": "2020-12-11T01:23:13.527944Z"
    }
   },
   "outputs": [
    {
     "data": {
      "text/plain": [
       "'Original'"
      ]
     },
     "execution_count": 8,
     "metadata": {},
     "output_type": "execute_result"
    }
   ],
   "source": [
    "# ORIGINAL / REVIVAL\n",
    "revival = soup.find('div', class_='col s12 txt-paddings tag-block-compact')\n",
    "stars = soup.find('div', class_= 'col s12 txt-paddings tag-block-compact').find_all('i', text='Original')\n",
    "if len(stars)==1:\n",
    "    stars = str(stars).split('>')[1].split('<')[0]\n",
    "else:\n",
    "    stars = 'Revival'\n",
    "stars"
   ]
  },
  {
   "cell_type": "markdown",
   "metadata": {},
   "source": [
    "<h2>Tour Stops Table"
   ]
  },
  {
   "cell_type": "markdown",
   "metadata": {},
   "source": [
    "This section higlights the scraping process for each individual stop (found at the same page ID listed above)"
   ]
  },
  {
   "cell_type": "code",
   "execution_count": 9,
   "metadata": {
    "ExecuteTime": {
     "end_time": "2020-12-11T01:26:24.729437Z",
     "start_time": "2020-12-11T01:26:24.691442Z"
    }
   },
   "outputs": [
    {
     "data": {
      "text/plain": [
       "'Miss Saigon'"
      ]
     },
     "execution_count": 9,
     "metadata": {},
     "output_type": "execute_result"
    }
   ],
   "source": [
    "# SHOW TITLE\n",
    "show_title = soup.find_all('h3')[0]\n",
    "show_title = str(show_title).split('>')[1].split('<')[0]\n",
    "show_title"
   ]
  },
  {
   "cell_type": "code",
   "execution_count": 10,
   "metadata": {
    "ExecuteTime": {
     "end_time": "2020-12-11T01:26:24.919624Z",
     "start_time": "2020-12-11T01:26:24.883113Z"
    },
    "scrolled": true
   },
   "outputs": [
    {
     "data": {
      "text/plain": [
       "'Vancouver, BC'"
      ]
     },
     "execution_count": 10,
     "metadata": {},
     "output_type": "execute_result"
    }
   ],
   "source": [
    "# LIST OF CITIES ON TOUR\n",
    "cities = soup.find_all('div', class_='col s12 m3 filter-key')\n",
    "city_list = []\n",
    "\n",
    "for city in cities:\n",
    "    city = str(city).split('>')[1].split('<')[0]\n",
    "    city_list.append(city)\n",
    "    \n",
    "city_list[0]"
   ]
  },
  {
   "cell_type": "code",
   "execution_count": 11,
   "metadata": {
    "ExecuteTime": {
     "end_time": "2020-12-11T01:26:25.172165Z",
     "start_time": "2020-12-11T01:26:25.131405Z"
    }
   },
   "outputs": [
    {
     "data": {
      "text/plain": [
       "'May 12, 1996 - Jul 07, 1996'"
      ]
     },
     "execution_count": 11,
     "metadata": {},
     "output_type": "execute_result"
    }
   ],
   "source": [
    "# DATES IN TOWN (past, current, and future)\n",
    "dates = soup.find_all('div', class_='col s12 m4')\n",
    "date_list = []\n",
    "\n",
    "for date in dates:\n",
    "    date = str(date).split('>')[1].split('<')[0]\n",
    "    date_list.append(date)\n",
    "    \n",
    "date_list[0]"
   ]
  },
  {
   "cell_type": "code",
   "execution_count": 12,
   "metadata": {
    "ExecuteTime": {
     "end_time": "2020-12-11T01:26:25.460066Z",
     "start_time": "2020-12-11T01:26:25.422218Z"
    },
    "scrolled": true
   },
   "outputs": [
    {
     "data": {
      "text/plain": [
       "'Queen Elizabeth Theatre'"
      ]
     },
     "execution_count": 12,
     "metadata": {},
     "output_type": "execute_result"
    }
   ],
   "source": [
    "# THEATRE NAME\n",
    "theatres = soup.find_all('div', class_='col s12 m5')\n",
    "theatre_list = []\n",
    "\n",
    "for theatre in theatres:\n",
    "    theatre = str(theatre).split('>')[2].split('<')[0]\n",
    "    theatre_list.append(theatre)\n",
    "    \n",
    "theatre_list[0]"
   ]
  },
  {
   "cell_type": "markdown",
   "metadata": {},
   "source": [
    "<br><b>The above web scraping test was placed into a function to scrape these values from a list of URL (function also excepts a single URL as argument)</b><br> <br>"
   ]
  },
  {
   "cell_type": "code",
   "execution_count": 13,
   "metadata": {
    "ExecuteTime": {
     "end_time": "2020-12-11T01:29:01.060242Z",
     "start_time": "2020-12-11T01:29:00.528474Z"
    },
    "scrolled": true
   },
   "outputs": [
    {
     "data": {
      "text/html": [
       "<div>\n",
       "<style scoped>\n",
       "    .dataframe tbody tr th:only-of-type {\n",
       "        vertical-align: middle;\n",
       "    }\n",
       "\n",
       "    .dataframe tbody tr th {\n",
       "        vertical-align: top;\n",
       "    }\n",
       "\n",
       "    .dataframe thead th {\n",
       "        text-align: right;\n",
       "    }\n",
       "</style>\n",
       "<table border=\"1\" class=\"dataframe\">\n",
       "  <thead>\n",
       "    <tr style=\"text-align: right;\">\n",
       "      <th></th>\n",
       "      <th>title</th>\n",
       "      <th>tour_descript</th>\n",
       "      <th>show_type</th>\n",
       "      <th>tour_opening</th>\n",
       "      <th>tour_closing</th>\n",
       "      <th>original_or_revival</th>\n",
       "      <th>reference_url</th>\n",
       "    </tr>\n",
       "  </thead>\n",
       "  <tbody>\n",
       "    <tr>\n",
       "      <th>0</th>\n",
       "      <td>Frozen (Tour)</td>\n",
       "      <td>Tour</td>\n",
       "      <td>Musical</td>\n",
       "      <td>2019-11-10</td>\n",
       "      <td>N/A</td>\n",
       "      <td>Original</td>\n",
       "      <td>https://www.ibdb.com/tour-production/frozen-52...</td>\n",
       "    </tr>\n",
       "  </tbody>\n",
       "</table>\n",
       "</div>"
      ],
      "text/plain": [
       "           title tour_descript show_type tour_opening tour_closing  \\\n",
       "0  Frozen (Tour)          Tour   Musical   2019-11-10          N/A   \n",
       "\n",
       "  original_or_revival                                      reference_url  \n",
       "0            Original  https://www.ibdb.com/tour-production/frozen-52...  "
      ]
     },
     "execution_count": 13,
     "metadata": {},
     "output_type": "execute_result"
    }
   ],
   "source": [
    "from project_functions import show_details, show_stops\n",
    "\n",
    "# This function finds all details listed above\n",
    "\n",
    "show_details('https://www.ibdb.com/tour-production/frozen-521605#Tours')"
   ]
  },
  {
   "cell_type": "code",
   "execution_count": 14,
   "metadata": {
    "scrolled": true
   },
   "outputs": [
    {
     "data": {
      "text/html": [
       "<div>\n",
       "<style scoped>\n",
       "    .dataframe tbody tr th:only-of-type {\n",
       "        vertical-align: middle;\n",
       "    }\n",
       "\n",
       "    .dataframe tbody tr th {\n",
       "        vertical-align: top;\n",
       "    }\n",
       "\n",
       "    .dataframe thead th {\n",
       "        text-align: right;\n",
       "    }\n",
       "</style>\n",
       "<table border=\"1\" class=\"dataframe\">\n",
       "  <thead>\n",
       "    <tr style=\"text-align: right;\">\n",
       "      <th></th>\n",
       "      <th>title</th>\n",
       "      <th>city</th>\n",
       "      <th>dates</th>\n",
       "      <th>theatre</th>\n",
       "    </tr>\n",
       "  </thead>\n",
       "  <tbody>\n",
       "    <tr>\n",
       "      <th>0</th>\n",
       "      <td>Miss Saigon (Tour: First National)</td>\n",
       "      <td>Vancouver, BC</td>\n",
       "      <td>May 12, 1996 - Jul 07, 1996</td>\n",
       "      <td>Queen Elizabeth Theatre</td>\n",
       "    </tr>\n",
       "    <tr>\n",
       "      <th>1</th>\n",
       "      <td>Miss Saigon (Tour: First National)</td>\n",
       "      <td>Denver, CO</td>\n",
       "      <td>Mar 17, 1996 - May 05, 1996</td>\n",
       "      <td>Buell Theatre</td>\n",
       "    </tr>\n",
       "    <tr>\n",
       "      <th>2</th>\n",
       "      <td>Miss Saigon (Tour: First National)</td>\n",
       "      <td>Cleveland, OH</td>\n",
       "      <td>Jan 21, 1996 - Mar 10, 1996</td>\n",
       "      <td>Ohio Theatre</td>\n",
       "    </tr>\n",
       "    <tr>\n",
       "      <th>3</th>\n",
       "      <td>Miss Saigon (Tour: First National)</td>\n",
       "      <td>Chicago, IL</td>\n",
       "      <td>Oct 25, 1995 - Jan 14, 1996</td>\n",
       "      <td>Auditorium Theatre of Roosevelt University</td>\n",
       "    </tr>\n",
       "    <tr>\n",
       "      <th>4</th>\n",
       "      <td>Miss Saigon (Tour: First National)</td>\n",
       "      <td>Los Angeles, CA</td>\n",
       "      <td>Jan 17, 1995 - Oct 15, 1995</td>\n",
       "      <td>Ahmanson Theatre</td>\n",
       "    </tr>\n",
       "    <tr>\n",
       "      <th>5</th>\n",
       "      <td>Miss Saigon (Tour: First National)</td>\n",
       "      <td>Detroit, MI</td>\n",
       "      <td>Oct 11, 1994 - Jan 08, 1995</td>\n",
       "      <td>Masonic Temple Theatre</td>\n",
       "    </tr>\n",
       "    <tr>\n",
       "      <th>6</th>\n",
       "      <td>Miss Saigon (Tour: First National)</td>\n",
       "      <td>Washington, DC</td>\n",
       "      <td>Jun 07, 1994 - Oct 02, 1994</td>\n",
       "      <td>Opera House (DC)</td>\n",
       "    </tr>\n",
       "    <tr>\n",
       "      <th>7</th>\n",
       "      <td>Miss Saigon (Tour: First National)</td>\n",
       "      <td>Fort Lauderdale, FL</td>\n",
       "      <td>Mar 29, 1994 - May 29, 1994</td>\n",
       "      <td>Broward Center For The Performing Arts</td>\n",
       "    </tr>\n",
       "    <tr>\n",
       "      <th>8</th>\n",
       "      <td>Miss Saigon (Tour: First National)</td>\n",
       "      <td>Minneapolis, MN</td>\n",
       "      <td>Jan 11, 1994 - Mar 20, 1994</td>\n",
       "      <td>Orpheum Theatre - Minneapolis</td>\n",
       "    </tr>\n",
       "    <tr>\n",
       "      <th>9</th>\n",
       "      <td>Miss Saigon (Tour: First National)</td>\n",
       "      <td>Denver, CO</td>\n",
       "      <td>Oct 19, 1993 - Jan 02, 1994</td>\n",
       "      <td>Buell Theatre</td>\n",
       "    </tr>\n",
       "    <tr>\n",
       "      <th>10</th>\n",
       "      <td>Miss Saigon (Tour: First National)</td>\n",
       "      <td>Boston, MA</td>\n",
       "      <td>Jul 13, 1993 - Oct 10, 1993</td>\n",
       "      <td>Wang Theatre at the Boch Center</td>\n",
       "    </tr>\n",
       "    <tr>\n",
       "      <th>11</th>\n",
       "      <td>Miss Saigon (Tour: First National)</td>\n",
       "      <td>Chicago, IL</td>\n",
       "      <td>Oct 03, 1992 - Jun 27, 1993</td>\n",
       "      <td>Auditorium Theatre of Roosevelt University</td>\n",
       "    </tr>\n",
       "  </tbody>\n",
       "</table>\n",
       "</div>"
      ],
      "text/plain": [
       "                                 title                 city  \\\n",
       "0   Miss Saigon (Tour: First National)        Vancouver, BC   \n",
       "1   Miss Saigon (Tour: First National)           Denver, CO   \n",
       "2   Miss Saigon (Tour: First National)        Cleveland, OH   \n",
       "3   Miss Saigon (Tour: First National)          Chicago, IL   \n",
       "4   Miss Saigon (Tour: First National)      Los Angeles, CA   \n",
       "5   Miss Saigon (Tour: First National)          Detroit, MI   \n",
       "6   Miss Saigon (Tour: First National)       Washington, DC   \n",
       "7   Miss Saigon (Tour: First National)  Fort Lauderdale, FL   \n",
       "8   Miss Saigon (Tour: First National)      Minneapolis, MN   \n",
       "9   Miss Saigon (Tour: First National)           Denver, CO   \n",
       "10  Miss Saigon (Tour: First National)           Boston, MA   \n",
       "11  Miss Saigon (Tour: First National)          Chicago, IL   \n",
       "\n",
       "                          dates                                     theatre  \n",
       "0   May 12, 1996 - Jul 07, 1996                     Queen Elizabeth Theatre  \n",
       "1   Mar 17, 1996 - May 05, 1996                               Buell Theatre  \n",
       "2   Jan 21, 1996 - Mar 10, 1996                                Ohio Theatre  \n",
       "3   Oct 25, 1995 - Jan 14, 1996  Auditorium Theatre of Roosevelt University  \n",
       "4   Jan 17, 1995 - Oct 15, 1995                            Ahmanson Theatre  \n",
       "5   Oct 11, 1994 - Jan 08, 1995                      Masonic Temple Theatre  \n",
       "6   Jun 07, 1994 - Oct 02, 1994                            Opera House (DC)  \n",
       "7   Mar 29, 1994 - May 29, 1994      Broward Center For The Performing Arts  \n",
       "8   Jan 11, 1994 - Mar 20, 1994               Orpheum Theatre - Minneapolis  \n",
       "9   Oct 19, 1993 - Jan 02, 1994                               Buell Theatre  \n",
       "10  Jul 13, 1993 - Oct 10, 1993             Wang Theatre at the Boch Center  \n",
       "11  Oct 03, 1992 - Jun 27, 1993  Auditorium Theatre of Roosevelt University  "
      ]
     },
     "execution_count": 14,
     "metadata": {},
     "output_type": "execute_result"
    }
   ],
   "source": [
    "# This function finds details for each tour stop (as listed above)\n",
    "\n",
    "show_stops('https://www.ibdb.com/tour-production/miss-saigon-first-national-509979#Tours')"
   ]
  },
  {
   "cell_type": "markdown",
   "metadata": {},
   "source": [
    "## Obtain List of Tour URL's and Extract Details"
   ]
  },
  {
   "cell_type": "markdown",
   "metadata": {},
   "source": [
    "In this step, a full list of URL's for each national tours was found, which will then be scraped later in the notebook"
   ]
  },
  {
   "cell_type": "code",
   "execution_count": 15,
   "metadata": {
    "ExecuteTime": {
     "end_time": "2020-12-11T01:35:52.479851Z",
     "start_time": "2020-12-11T01:35:50.920315Z"
    }
   },
   "outputs": [],
   "source": [
    "# Request HTML from page listing all national tours and their links\n",
    "\n",
    "tours = requests.get('https://www.ibdb.com/theatre/national-tour-100020')\n",
    "soup = BeautifulSoup(tours.text, 'html5lib')"
   ]
  },
  {
   "cell_type": "code",
   "execution_count": 16,
   "metadata": {
    "ExecuteTime": {
     "end_time": "2020-12-11T01:35:52.537636Z",
     "start_time": "2020-12-11T01:35:52.485836Z"
    },
    "scrolled": true
   },
   "outputs": [],
   "source": [
    "# Find all URL ID's of different tours \n",
    "\n",
    "raw_urls = soup.find_all('a', class_='font-11pt')\n",
    "raw_url_list = []\n",
    "\n",
    "# Create actual URL's\n",
    "\n",
    "for i, url in enumerate(raw_urls):\n",
    "    url = \"http://www.ibdb.com\" + raw_urls[i]['href'] + '#Tours'\n",
    "    raw_url_list.append(url)"
   ]
  },
  {
   "cell_type": "code",
   "execution_count": 17,
   "metadata": {
    "ExecuteTime": {
     "end_time": "2020-12-11T01:36:04.919637Z",
     "start_time": "2020-12-11T01:35:53.597323Z"
    },
    "scrolled": true
   },
   "outputs": [
    {
     "name": "stdout",
     "output_type": "stream",
     "text": [
      "This script is 20.0% complete.\n",
      "This script is 40.0% complete.\n",
      "This script is 60.0% complete.\n",
      "This script is 80.0% complete.\n",
      "This script is 100.0% complete.\n"
     ]
    },
    {
     "data": {
      "text/html": [
       "<div>\n",
       "<style scoped>\n",
       "    .dataframe tbody tr th:only-of-type {\n",
       "        vertical-align: middle;\n",
       "    }\n",
       "\n",
       "    .dataframe tbody tr th {\n",
       "        vertical-align: top;\n",
       "    }\n",
       "\n",
       "    .dataframe thead th {\n",
       "        text-align: right;\n",
       "    }\n",
       "</style>\n",
       "<table border=\"1\" class=\"dataframe\">\n",
       "  <thead>\n",
       "    <tr style=\"text-align: right;\">\n",
       "      <th></th>\n",
       "      <th>title</th>\n",
       "      <th>tour_descript</th>\n",
       "      <th>show_type</th>\n",
       "      <th>tour_opening</th>\n",
       "      <th>tour_closing</th>\n",
       "      <th>original_or_revival</th>\n",
       "      <th>reference_url</th>\n",
       "    </tr>\n",
       "  </thead>\n",
       "  <tbody>\n",
       "    <tr>\n",
       "      <th>0</th>\n",
       "      <td>The Lion King (Tour: Gazelle)</td>\n",
       "      <td>Tour: Gazelle</td>\n",
       "      <td>Musical</td>\n",
       "      <td>2002-04-17</td>\n",
       "      <td>2017-07-23</td>\n",
       "      <td>Original</td>\n",
       "      <td>http://www.ibdb.com/broadway-production/the-li...</td>\n",
       "    </tr>\n",
       "    <tr>\n",
       "      <th>1</th>\n",
       "      <td>The Book of Mormon (Tour: Jumamosi)</td>\n",
       "      <td>Tour: Jumamosi</td>\n",
       "      <td>Musical</td>\n",
       "      <td>2012-12-11</td>\n",
       "      <td>2020-03-11</td>\n",
       "      <td>Original</td>\n",
       "      <td>http://www.ibdb.com/broadway-production/the-bo...</td>\n",
       "    </tr>\n",
       "    <tr>\n",
       "      <th>2</th>\n",
       "      <td>The Book of Mormon (Tour: Latter Day)</td>\n",
       "      <td>Tour: Latter Day</td>\n",
       "      <td>Musical</td>\n",
       "      <td>2012-08-14</td>\n",
       "      <td>2016-05-01</td>\n",
       "      <td>Original</td>\n",
       "      <td>http://www.ibdb.com/broadway-production/the-bo...</td>\n",
       "    </tr>\n",
       "    <tr>\n",
       "      <th>3</th>\n",
       "      <td>Pippin (Tour)</td>\n",
       "      <td>Tour</td>\n",
       "      <td>Musical</td>\n",
       "      <td>2014-09-06</td>\n",
       "      <td>2016-02-28</td>\n",
       "      <td>Revival</td>\n",
       "      <td>http://www.ibdb.com/broadway-production/pippin...</td>\n",
       "    </tr>\n",
       "    <tr>\n",
       "      <th>4</th>\n",
       "      <td>Rodgers + Hammerstein's Cinderella (Tour)</td>\n",
       "      <td>Tour</td>\n",
       "      <td>Musical</td>\n",
       "      <td>2014-10-10</td>\n",
       "      <td>2016-05-08</td>\n",
       "      <td>Original</td>\n",
       "      <td>http://www.ibdb.com/broadway-production/rodger...</td>\n",
       "    </tr>\n",
       "  </tbody>\n",
       "</table>\n",
       "</div>"
      ],
      "text/plain": [
       "                                       title     tour_descript show_type  \\\n",
       "0              The Lion King (Tour: Gazelle)     Tour: Gazelle   Musical   \n",
       "1        The Book of Mormon (Tour: Jumamosi)    Tour: Jumamosi   Musical   \n",
       "2      The Book of Mormon (Tour: Latter Day)  Tour: Latter Day   Musical   \n",
       "3                              Pippin (Tour)              Tour   Musical   \n",
       "4  Rodgers + Hammerstein's Cinderella (Tour)              Tour   Musical   \n",
       "\n",
       "  tour_opening tour_closing original_or_revival  \\\n",
       "0   2002-04-17   2017-07-23            Original   \n",
       "1   2012-12-11   2020-03-11            Original   \n",
       "2   2012-08-14   2016-05-01            Original   \n",
       "3   2014-09-06   2016-02-28             Revival   \n",
       "4   2014-10-10   2016-05-08            Original   \n",
       "\n",
       "                                       reference_url  \n",
       "0  http://www.ibdb.com/broadway-production/the-li...  \n",
       "1  http://www.ibdb.com/broadway-production/the-bo...  \n",
       "2  http://www.ibdb.com/broadway-production/the-bo...  \n",
       "3  http://www.ibdb.com/broadway-production/pippin...  \n",
       "4  http://www.ibdb.com/broadway-production/rodger...  "
      ]
     },
     "execution_count": 17,
     "metadata": {},
     "output_type": "execute_result"
    }
   ],
   "source": [
    "# Test scraped URL's\n",
    "\n",
    "sample = raw_url_list[0:5]\n",
    "show_details(sample)"
   ]
  },
  {
   "cell_type": "code",
   "execution_count": 18,
   "metadata": {
    "ExecuteTime": {
     "end_time": "2020-12-11T01:36:14.927479Z",
     "start_time": "2020-12-11T01:36:05.744669Z"
    },
    "scrolled": true
   },
   "outputs": [
    {
     "data": {
      "text/html": [
       "<div>\n",
       "<style scoped>\n",
       "    .dataframe tbody tr th:only-of-type {\n",
       "        vertical-align: middle;\n",
       "    }\n",
       "\n",
       "    .dataframe tbody tr th {\n",
       "        vertical-align: top;\n",
       "    }\n",
       "\n",
       "    .dataframe thead th {\n",
       "        text-align: right;\n",
       "    }\n",
       "</style>\n",
       "<table border=\"1\" class=\"dataframe\">\n",
       "  <thead>\n",
       "    <tr style=\"text-align: right;\">\n",
       "      <th></th>\n",
       "      <th>title</th>\n",
       "      <th>city</th>\n",
       "      <th>dates</th>\n",
       "      <th>theatre</th>\n",
       "    </tr>\n",
       "  </thead>\n",
       "  <tbody>\n",
       "    <tr>\n",
       "      <th>0</th>\n",
       "      <td>The Lion King (Tour: Gazelle)</td>\n",
       "      <td>Houston, TX</td>\n",
       "      <td>Jun 27, 2017 - Jul 23, 2017</td>\n",
       "      <td>Hobby Center For The Performing Arts</td>\n",
       "    </tr>\n",
       "    <tr>\n",
       "      <th>1</th>\n",
       "      <td>The Lion King (Tour: Gazelle)</td>\n",
       "      <td>Greenville, SC</td>\n",
       "      <td>May 31, 2017 - Jun 25, 2017</td>\n",
       "      <td>Peace Center For The Performing Arts</td>\n",
       "    </tr>\n",
       "    <tr>\n",
       "      <th>2</th>\n",
       "      <td>The Lion King (Tour: Gazelle)</td>\n",
       "      <td>Oklahoma City, OK</td>\n",
       "      <td>May 09, 2017 - May 28, 2017</td>\n",
       "      <td>Civic Center Music Hall</td>\n",
       "    </tr>\n",
       "    <tr>\n",
       "      <th>3</th>\n",
       "      <td>The Lion King (Tour: Gazelle)</td>\n",
       "      <td>St. Louis, MO</td>\n",
       "      <td>Apr 18, 2017 - May 07, 2017</td>\n",
       "      <td>Fox Theatre - St. Louis</td>\n",
       "    </tr>\n",
       "    <tr>\n",
       "      <th>4</th>\n",
       "      <td>The Lion King (Tour: Gazelle)</td>\n",
       "      <td>Salt Lake City, UT</td>\n",
       "      <td>Mar 23, 2017 - Apr 16, 2017</td>\n",
       "      <td>George S. and Dolores Doré Eccles Theater</td>\n",
       "    </tr>\n",
       "    <tr>\n",
       "      <th>...</th>\n",
       "      <td>...</td>\n",
       "      <td>...</td>\n",
       "      <td>...</td>\n",
       "      <td>...</td>\n",
       "    </tr>\n",
       "    <tr>\n",
       "      <th>517</th>\n",
       "      <td>Rodgers + Hammerstein's Cinderella (Tour)</td>\n",
       "      <td>West Palm Beach, FL</td>\n",
       "      <td>Nov 11, 2014 - Nov 16, 2014</td>\n",
       "      <td>Raymond F. Kravis Center For The Performing Arts</td>\n",
       "    </tr>\n",
       "    <tr>\n",
       "      <th>518</th>\n",
       "      <td>Rodgers + Hammerstein's Cinderella (Tour)</td>\n",
       "      <td>Charlotte, NC</td>\n",
       "      <td>Nov 04, 2014 - Nov 09, 2014</td>\n",
       "      <td>Belk Theater</td>\n",
       "    </tr>\n",
       "    <tr>\n",
       "      <th>519</th>\n",
       "      <td>Rodgers + Hammerstein's Cinderella (Tour)</td>\n",
       "      <td>Miami, FL</td>\n",
       "      <td>Oct 28, 2014 - Nov 02, 2014</td>\n",
       "      <td>Adrienne Arsht Center for the Performing Arts ...</td>\n",
       "    </tr>\n",
       "    <tr>\n",
       "      <th>520</th>\n",
       "      <td>Rodgers + Hammerstein's Cinderella (Tour)</td>\n",
       "      <td>Tampa, FL</td>\n",
       "      <td>Oct 21, 2014 - Oct 26, 2014</td>\n",
       "      <td>David A. Straz, Jr. Center for the Performing ...</td>\n",
       "    </tr>\n",
       "    <tr>\n",
       "      <th>521</th>\n",
       "      <td>Rodgers + Hammerstein's Cinderella (Tour)</td>\n",
       "      <td>Providence, RI</td>\n",
       "      <td>Oct 10, 2014 - Oct 18, 2014</td>\n",
       "      <td>Providence Performing Arts Center</td>\n",
       "    </tr>\n",
       "  </tbody>\n",
       "</table>\n",
       "<p>522 rows × 4 columns</p>\n",
       "</div>"
      ],
      "text/plain": [
       "                                         title                 city  \\\n",
       "0                The Lion King (Tour: Gazelle)          Houston, TX   \n",
       "1                The Lion King (Tour: Gazelle)       Greenville, SC   \n",
       "2                The Lion King (Tour: Gazelle)    Oklahoma City, OK   \n",
       "3                The Lion King (Tour: Gazelle)        St. Louis, MO   \n",
       "4                The Lion King (Tour: Gazelle)   Salt Lake City, UT   \n",
       "..                                         ...                  ...   \n",
       "517  Rodgers + Hammerstein's Cinderella (Tour)  West Palm Beach, FL   \n",
       "518  Rodgers + Hammerstein's Cinderella (Tour)        Charlotte, NC   \n",
       "519  Rodgers + Hammerstein's Cinderella (Tour)            Miami, FL   \n",
       "520  Rodgers + Hammerstein's Cinderella (Tour)            Tampa, FL   \n",
       "521  Rodgers + Hammerstein's Cinderella (Tour)       Providence, RI   \n",
       "\n",
       "                           dates  \\\n",
       "0    Jun 27, 2017 - Jul 23, 2017   \n",
       "1    May 31, 2017 - Jun 25, 2017   \n",
       "2    May 09, 2017 - May 28, 2017   \n",
       "3    Apr 18, 2017 - May 07, 2017   \n",
       "4    Mar 23, 2017 - Apr 16, 2017   \n",
       "..                           ...   \n",
       "517  Nov 11, 2014 - Nov 16, 2014   \n",
       "518  Nov 04, 2014 - Nov 09, 2014   \n",
       "519  Oct 28, 2014 - Nov 02, 2014   \n",
       "520  Oct 21, 2014 - Oct 26, 2014   \n",
       "521  Oct 10, 2014 - Oct 18, 2014   \n",
       "\n",
       "                                               theatre  \n",
       "0                 Hobby Center For The Performing Arts  \n",
       "1                 Peace Center For The Performing Arts  \n",
       "2                              Civic Center Music Hall  \n",
       "3                              Fox Theatre - St. Louis  \n",
       "4            George S. and Dolores Doré Eccles Theater  \n",
       "..                                                 ...  \n",
       "517   Raymond F. Kravis Center For The Performing Arts  \n",
       "518                                       Belk Theater  \n",
       "519  Adrienne Arsht Center for the Performing Arts ...  \n",
       "520  David A. Straz, Jr. Center for the Performing ...  \n",
       "521                  Providence Performing Arts Center  \n",
       "\n",
       "[522 rows x 4 columns]"
      ]
     },
     "execution_count": 18,
     "metadata": {},
     "output_type": "execute_result"
    }
   ],
   "source": [
    "sample = raw_url_list[0:5]\n",
    "show_stops(sample)"
   ]
  },
  {
   "cell_type": "markdown",
   "metadata": {
    "ExecuteTime": {
     "end_time": "2020-12-11T01:35:32.148170Z",
     "start_time": "2020-12-11T01:35:32.128421Z"
    }
   },
   "source": [
    "<br><b>It looks like both of these work! Let's iterate on the full url list...</b><br><br>"
   ]
  },
  {
   "cell_type": "code",
   "execution_count": null,
   "metadata": {
    "scrolled": true
   },
   "outputs": [],
   "source": [
    "show_details_df = show_details(raw_url_list)"
   ]
  },
  {
   "cell_type": "code",
   "execution_count": 20,
   "metadata": {
    "ExecuteTime": {
     "end_time": "2020-12-11T01:37:20.044462Z",
     "start_time": "2020-12-11T01:37:20.008021Z"
    }
   },
   "outputs": [
    {
     "data": {
      "text/html": [
       "<div>\n",
       "<style scoped>\n",
       "    .dataframe tbody tr th:only-of-type {\n",
       "        vertical-align: middle;\n",
       "    }\n",
       "\n",
       "    .dataframe tbody tr th {\n",
       "        vertical-align: top;\n",
       "    }\n",
       "\n",
       "    .dataframe thead th {\n",
       "        text-align: right;\n",
       "    }\n",
       "</style>\n",
       "<table border=\"1\" class=\"dataframe\">\n",
       "  <thead>\n",
       "    <tr style=\"text-align: right;\">\n",
       "      <th></th>\n",
       "      <th>Unnamed: 0</th>\n",
       "      <th>Unnamed: 0.1</th>\n",
       "      <th>title</th>\n",
       "      <th>tour_descript</th>\n",
       "      <th>show_type</th>\n",
       "      <th>tour_opening</th>\n",
       "      <th>tour_closing</th>\n",
       "      <th>original_or_revival</th>\n",
       "      <th>reference_url</th>\n",
       "      <th>year</th>\n",
       "    </tr>\n",
       "  </thead>\n",
       "  <tbody>\n",
       "    <tr>\n",
       "      <th>0</th>\n",
       "      <td>0</td>\n",
       "      <td>0</td>\n",
       "      <td>The Lion King (Tour: Gazelle)</td>\n",
       "      <td>Tour: Gazelle</td>\n",
       "      <td>Musical</td>\n",
       "      <td>2002-04-17 00:00:00</td>\n",
       "      <td>2017-07-23 00:00:00</td>\n",
       "      <td>Original</td>\n",
       "      <td>http://www.ibdb.com/broadway-production/the-li...</td>\n",
       "      <td>2002</td>\n",
       "    </tr>\n",
       "    <tr>\n",
       "      <th>1</th>\n",
       "      <td>1</td>\n",
       "      <td>1</td>\n",
       "      <td>The Book of Mormon (Tour: Jumamosi)</td>\n",
       "      <td>Tour: Jumamosi</td>\n",
       "      <td>Musical</td>\n",
       "      <td>2012-12-11 00:00:00</td>\n",
       "      <td>2020-03-11 00:00:00</td>\n",
       "      <td>Original</td>\n",
       "      <td>http://www.ibdb.com/broadway-production/the-bo...</td>\n",
       "      <td>2012</td>\n",
       "    </tr>\n",
       "    <tr>\n",
       "      <th>2</th>\n",
       "      <td>2</td>\n",
       "      <td>2</td>\n",
       "      <td>The Book of Mormon (Tour: Latter Day)</td>\n",
       "      <td>Tour: Latter Day</td>\n",
       "      <td>Musical</td>\n",
       "      <td>2012-08-14 00:00:00</td>\n",
       "      <td>2016-05-01 00:00:00</td>\n",
       "      <td>Original</td>\n",
       "      <td>http://www.ibdb.com/broadway-production/the-bo...</td>\n",
       "      <td>2012</td>\n",
       "    </tr>\n",
       "    <tr>\n",
       "      <th>3</th>\n",
       "      <td>3</td>\n",
       "      <td>3</td>\n",
       "      <td>Pippin (Tour)</td>\n",
       "      <td>Tour</td>\n",
       "      <td>Musical</td>\n",
       "      <td>2014-09-06 00:00:00</td>\n",
       "      <td>2016-02-28 00:00:00</td>\n",
       "      <td>Revival</td>\n",
       "      <td>http://www.ibdb.com/broadway-production/pippin...</td>\n",
       "      <td>2014</td>\n",
       "    </tr>\n",
       "    <tr>\n",
       "      <th>4</th>\n",
       "      <td>4</td>\n",
       "      <td>4</td>\n",
       "      <td>Rodgers + Hammerstein's Cinderella (Tour)</td>\n",
       "      <td>Tour</td>\n",
       "      <td>Musical</td>\n",
       "      <td>2014-10-10 00:00:00</td>\n",
       "      <td>2016-05-08 00:00:00</td>\n",
       "      <td>Original</td>\n",
       "      <td>http://www.ibdb.com/broadway-production/rodger...</td>\n",
       "      <td>2014</td>\n",
       "    </tr>\n",
       "    <tr>\n",
       "      <th>...</th>\n",
       "      <td>...</td>\n",
       "      <td>...</td>\n",
       "      <td>...</td>\n",
       "      <td>...</td>\n",
       "      <td>...</td>\n",
       "      <td>...</td>\n",
       "      <td>...</td>\n",
       "      <td>...</td>\n",
       "      <td>...</td>\n",
       "      <td>...</td>\n",
       "    </tr>\n",
       "    <tr>\n",
       "      <th>714</th>\n",
       "      <td>715</td>\n",
       "      <td>715</td>\n",
       "      <td>Hadrian VII (Tour)</td>\n",
       "      <td>Tour</td>\n",
       "      <td>Play</td>\n",
       "      <td>1969-09-04 00:00:00</td>\n",
       "      <td>1970-05-30 00:00:00</td>\n",
       "      <td>Original</td>\n",
       "      <td>http://www.ibdb.com/broadway-production/hadria...</td>\n",
       "      <td>1969</td>\n",
       "    </tr>\n",
       "    <tr>\n",
       "      <th>715</th>\n",
       "      <td>716</td>\n",
       "      <td>716</td>\n",
       "      <td>Dylan (Tour)</td>\n",
       "      <td>Tour</td>\n",
       "      <td>Play</td>\n",
       "      <td>1970-01-14 00:00:00</td>\n",
       "      <td>1970-05-30 00:00:00</td>\n",
       "      <td>Original</td>\n",
       "      <td>http://www.ibdb.com/broadway-production/dylan-...</td>\n",
       "      <td>1970</td>\n",
       "    </tr>\n",
       "    <tr>\n",
       "      <th>716</th>\n",
       "      <td>717</td>\n",
       "      <td>717</td>\n",
       "      <td>Sarafina! (Tour)</td>\n",
       "      <td>Tour</td>\n",
       "      <td>Musical</td>\n",
       "      <td>1990-03-19 00:00:00</td>\n",
       "      <td>1991-09-29 00:00:00</td>\n",
       "      <td>Original</td>\n",
       "      <td>http://www.ibdb.com/broadway-production/sarafi...</td>\n",
       "      <td>1990</td>\n",
       "    </tr>\n",
       "    <tr>\n",
       "      <th>717</th>\n",
       "      <td>718</td>\n",
       "      <td>718</td>\n",
       "      <td>Sophisticated Ladies (Tour)</td>\n",
       "      <td>Tour</td>\n",
       "      <td>Musical</td>\n",
       "      <td>1983-05-24 00:00:00</td>\n",
       "      <td>1983-10-09 00:00:00</td>\n",
       "      <td>Original</td>\n",
       "      <td>http://www.ibdb.com/broadway-production/sophis...</td>\n",
       "      <td>1983</td>\n",
       "    </tr>\n",
       "    <tr>\n",
       "      <th>718</th>\n",
       "      <td>719</td>\n",
       "      <td>719</td>\n",
       "      <td>Sophisticated Ladies (Tour)</td>\n",
       "      <td>Tour</td>\n",
       "      <td>Musical</td>\n",
       "      <td>1984-10-01 00:00:00</td>\n",
       "      <td>1985-05-12 00:00:00</td>\n",
       "      <td>Original</td>\n",
       "      <td>http://www.ibdb.com/broadway-production/sophis...</td>\n",
       "      <td>1984</td>\n",
       "    </tr>\n",
       "  </tbody>\n",
       "</table>\n",
       "<p>719 rows × 10 columns</p>\n",
       "</div>"
      ],
      "text/plain": [
       "     Unnamed: 0  Unnamed: 0.1                                      title  \\\n",
       "0             0             0              The Lion King (Tour: Gazelle)   \n",
       "1             1             1        The Book of Mormon (Tour: Jumamosi)   \n",
       "2             2             2      The Book of Mormon (Tour: Latter Day)   \n",
       "3             3             3                              Pippin (Tour)   \n",
       "4             4             4  Rodgers + Hammerstein's Cinderella (Tour)   \n",
       "..          ...           ...                                        ...   \n",
       "714         715           715                         Hadrian VII (Tour)   \n",
       "715         716           716                               Dylan (Tour)   \n",
       "716         717           717                           Sarafina! (Tour)   \n",
       "717         718           718                Sophisticated Ladies (Tour)   \n",
       "718         719           719                Sophisticated Ladies (Tour)   \n",
       "\n",
       "        tour_descript show_type         tour_opening         tour_closing  \\\n",
       "0       Tour: Gazelle   Musical  2002-04-17 00:00:00  2017-07-23 00:00:00   \n",
       "1      Tour: Jumamosi   Musical  2012-12-11 00:00:00  2020-03-11 00:00:00   \n",
       "2    Tour: Latter Day   Musical  2012-08-14 00:00:00  2016-05-01 00:00:00   \n",
       "3                Tour   Musical  2014-09-06 00:00:00  2016-02-28 00:00:00   \n",
       "4                Tour   Musical  2014-10-10 00:00:00  2016-05-08 00:00:00   \n",
       "..                ...       ...                  ...                  ...   \n",
       "714              Tour      Play  1969-09-04 00:00:00  1970-05-30 00:00:00   \n",
       "715              Tour      Play  1970-01-14 00:00:00  1970-05-30 00:00:00   \n",
       "716              Tour   Musical  1990-03-19 00:00:00  1991-09-29 00:00:00   \n",
       "717              Tour   Musical  1983-05-24 00:00:00  1983-10-09 00:00:00   \n",
       "718              Tour   Musical  1984-10-01 00:00:00  1985-05-12 00:00:00   \n",
       "\n",
       "    original_or_revival                                      reference_url  \\\n",
       "0              Original  http://www.ibdb.com/broadway-production/the-li...   \n",
       "1              Original  http://www.ibdb.com/broadway-production/the-bo...   \n",
       "2              Original  http://www.ibdb.com/broadway-production/the-bo...   \n",
       "3               Revival  http://www.ibdb.com/broadway-production/pippin...   \n",
       "4              Original  http://www.ibdb.com/broadway-production/rodger...   \n",
       "..                  ...                                                ...   \n",
       "714            Original  http://www.ibdb.com/broadway-production/hadria...   \n",
       "715            Original  http://www.ibdb.com/broadway-production/dylan-...   \n",
       "716            Original  http://www.ibdb.com/broadway-production/sarafi...   \n",
       "717            Original  http://www.ibdb.com/broadway-production/sophis...   \n",
       "718            Original  http://www.ibdb.com/broadway-production/sophis...   \n",
       "\n",
       "     year  \n",
       "0    2002  \n",
       "1    2012  \n",
       "2    2012  \n",
       "3    2014  \n",
       "4    2014  \n",
       "..    ...  \n",
       "714  1969  \n",
       "715  1970  \n",
       "716  1990  \n",
       "717  1983  \n",
       "718  1984  \n",
       "\n",
       "[719 rows x 10 columns]"
      ]
     },
     "execution_count": 20,
     "metadata": {},
     "output_type": "execute_result"
    }
   ],
   "source": [
    "show_details_df"
   ]
  },
  {
   "cell_type": "markdown",
   "metadata": {
    "ExecuteTime": {
     "end_time": "2020-12-11T01:37:47.753196Z",
     "start_time": "2020-12-11T01:37:47.749909Z"
    }
   },
   "source": [
    "### Cleaning Show Details Dataframe"
   ]
  },
  {
   "cell_type": "code",
   "execution_count": 27,
   "metadata": {
    "ExecuteTime": {
     "end_time": "2020-12-12T03:52:59.417681Z",
     "start_time": "2020-12-12T03:52:58.759631Z"
    }
   },
   "outputs": [],
   "source": [
    "show_details_df = pd.read_csv('data/ibdb_show_details.csv')"
   ]
  },
  {
   "cell_type": "code",
   "execution_count": 23,
   "metadata": {
    "ExecuteTime": {
     "end_time": "2020-12-11T01:38:41.050161Z",
     "start_time": "2020-12-11T01:38:41.039713Z"
    },
    "scrolled": false
   },
   "outputs": [],
   "source": [
    "# DROP ONE NAN VALUE \n",
    "show_details_df = show_details_df[show_details_df.year != 'nan']\n",
    "\n",
    "# Set year to integer\n",
    "show_details_df['year'] = [int(x) for x in show_details_df['year']]"
   ]
  },
  {
   "cell_type": "code",
   "execution_count": 24,
   "metadata": {
    "ExecuteTime": {
     "end_time": "2020-12-11T01:38:44.210342Z",
     "start_time": "2020-12-11T01:38:43.947985Z"
    }
   },
   "outputs": [
    {
     "name": "stdout",
     "output_type": "stream",
     "text": [
      "There have been 207 Broadway national tours since 2004.\n"
     ]
    }
   ],
   "source": [
    "shows_amount = len(show_details_df[show_details_df.year>2003])\n",
    "print(\"There have been \" + str(shows_amount) + \" Broadway national tours since 2004.\")"
   ]
  },
  {
   "cell_type": "code",
   "execution_count": null,
   "metadata": {},
   "outputs": [],
   "source": [
    "show_details_df.to_csv('data/ibdb_show_details.csv')"
   ]
  },
  {
   "cell_type": "markdown",
   "metadata": {
    "ExecuteTime": {
     "end_time": "2020-12-11T01:39:50.508132Z",
     "start_time": "2020-12-11T01:39:50.503016Z"
    }
   },
   "source": [
    "## Scraping Full Tour Routes"
   ]
  },
  {
   "cell_type": "code",
   "execution_count": 23,
   "metadata": {},
   "outputs": [],
   "source": [
    "show_stops_df = show_stops(raw_url_list)"
   ]
  },
  {
   "cell_type": "code",
   "execution_count": 26,
   "metadata": {},
   "outputs": [],
   "source": [
    "show_stops_df.to_csv('data/idbd_show_stops.csv')"
   ]
  },
  {
   "cell_type": "markdown",
   "metadata": {
    "ExecuteTime": {
     "end_time": "2020-12-11T01:40:36.672025Z",
     "start_time": "2020-12-11T01:40:36.668495Z"
    }
   },
   "source": [
    "### List of Most Commonly Visited Cities in U.S. (1960 - Present)"
   ]
  },
  {
   "cell_type": "code",
   "execution_count": 30,
   "metadata": {},
   "outputs": [
    {
     "data": {
      "text/plain": [
       "Chicago, IL          502\n",
       "Boston, MA           466\n",
       "Los Angeles, CA      450\n",
       "Detroit, MI          430\n",
       "St. Louis, MO        415\n",
       "Philadelphia, PA     414\n",
       "San Francisco, CA    407\n",
       "Washington, DC       398\n",
       "Cleveland, OH        396\n",
       "Pittsburgh, PA       382\n",
       "Baltimore, MD        379\n",
       "Dallas, TX           360\n",
       "Denver, CO           356\n",
       "Atlanta, GA          344\n",
       "Cincinnati, OH       323\n",
       "Toronto, ON          312\n",
       "Houston, TX          300\n",
       "Seattle, WA          295\n",
       "Minneapolis, MN      275\n",
       "San Diego, CA        268\n",
       "Louisville, KY       268\n",
       "Columbus, OH         265\n",
       "Indianapolis, IN     258\n",
       "Hartford, CT         255\n",
       "Orlando, FL          248\n",
       "Name: city, dtype: int64"
      ]
     },
     "execution_count": 30,
     "metadata": {},
     "output_type": "execute_result"
    }
   ],
   "source": [
    "show_stops_df.city.value_counts().head(25)"
   ]
  }
 ],
 "metadata": {
  "kernelspec": {
   "display_name": "Python 3",
   "language": "python",
   "name": "python3"
  },
  "language_info": {
   "codemirror_mode": {
    "name": "ipython",
    "version": 3
   },
   "file_extension": ".py",
   "mimetype": "text/x-python",
   "name": "python",
   "nbconvert_exporter": "python",
   "pygments_lexer": "ipython3",
   "version": "3.8.5"
  },
  "toc": {
   "base_numbering": 1,
   "nav_menu": {},
   "number_sections": true,
   "sideBar": true,
   "skip_h1_title": false,
   "title_cell": "Table of Contents",
   "title_sidebar": "Contents",
   "toc_cell": false,
   "toc_position": {},
   "toc_section_display": true,
   "toc_window_display": false
  }
 },
 "nbformat": 4,
 "nbformat_minor": 4
}
